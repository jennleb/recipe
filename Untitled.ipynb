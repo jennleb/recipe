{
 "cells": [
  {
   "cell_type": "code",
   "execution_count": 6,
   "id": "261c19b0-2035-46ec-8749-ee5c7c2a5206",
   "metadata": {},
   "outputs": [],
   "source": [
    "#!/usr/bin/env python2\n",
    "import random\n",
    "\n",
    "givers = [\n",
    "\t'Jennie',\n",
    "\t'Steve',\n",
    "\t'Hayley',\n",
    "\t'Rob',\n",
    "\t'Ceri',\n",
    "\t'Kieran',\n",
    "\t'Shaun',\n",
    "\t'Jenna'\n",
    "]\n",
    "excludes = {\n",
    "\t'Jennie': 'Steve',\n",
    "\t'Hayley': 'Rob',\n",
    "\t'Jenna': 'Steve'\n",
    "}\n"
   ]
  },
  {
   "cell_type": "code",
   "execution_count": 7,
   "id": "9e526a4d-6ce0-43be-a1a6-4270e5bd511f",
   "metadata": {},
   "outputs": [],
   "source": [
    "def genSecretSanta():\n",
    "\tresult = []\n",
    "\trestart = True\n",
    "\n",
    "\twhile restart:\n",
    "\t\trestart = False\n",
    "\t\treceivers = givers[:]\n",
    "\n",
    "\t\tfor i in range(len(givers)):\n",
    "\t\t\tgiver = givers[i]\n",
    "\t\t\t# Pick a random reciever\n",
    "\t\t\treceiver = random.choice(receivers)\n",
    "\n",
    "\t\t\t# If we've got to the last giver and its the same as the reciever, restart the generation\n",
    "\t\t\tif (giver == receiver and i == (len(givers) - 1)):\n",
    "\t\t\t\trestart = True\n",
    "\t\t\t\tbreak\n",
    "\t\t\telse:\n",
    "\t\t\t\t# Ensure the giver and reciever are not the same, and they are not in the excludes list\n",
    "\t\t\t\twhile (receiver == giver) or (receiver in excludes and giver == excludes[receiver]):\n",
    "\t\t\t\t\treceiver = random.choice(receivers)\n",
    "\t\t\t\t# Add result to array\n",
    "\t\t\t\tresult.append(giver + ' is buying for ' + receiver)\n",
    "\t\t\t\t# Remove the reciever from the list\n",
    "\t\t\t\treceivers.remove(receiver)\n",
    "\t\t\t\t\n",
    "\tfor r in result:\n",
    "\t\tprint (r)"
   ]
  },
  {
   "cell_type": "code",
   "execution_count": 8,
   "id": "d53451ab-5f52-4f10-b554-bc0422e1126d",
   "metadata": {
    "tags": []
   },
   "outputs": [
    {
     "name": "stdout",
     "output_type": "stream",
     "text": [
      "Jennie is buying for Hayley\n",
      "Steve is buying for Kieran\n",
      "Hayley is buying for Shaun\n",
      "Rob is buying for Steve\n",
      "Ceri is buying for Rob\n",
      "Kieran is buying for Jennie\n",
      "Shaun is buying for Ceri\n",
      "Jennie is buying for Hayley\n",
      "Steve is buying for Kieran\n",
      "Hayley is buying for Ceri\n",
      "Rob is buying for Jenna\n",
      "Ceri is buying for Rob\n",
      "Kieran is buying for Shaun\n",
      "Shaun is buying for Steve\n",
      "Jenna is buying for Jennie\n"
     ]
    }
   ],
   "source": [
    "def main():\n",
    "\tgenSecretSanta()\n",
    "\n",
    "if __name__ == '__main__':\n",
    "\tmain()"
   ]
  }
 ],
 "metadata": {
  "kernelspec": {
   "display_name": "Python 3 (ipykernel)",
   "language": "python",
   "name": "python3"
  },
  "language_info": {
   "codemirror_mode": {
    "name": "ipython",
    "version": 3
   },
   "file_extension": ".py",
   "mimetype": "text/x-python",
   "name": "python",
   "nbconvert_exporter": "python",
   "pygments_lexer": "ipython3",
   "version": "3.11.5"
  }
 },
 "nbformat": 4,
 "nbformat_minor": 5
}
